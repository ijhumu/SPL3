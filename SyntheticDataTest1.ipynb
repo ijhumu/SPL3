{
 "cells": [
  {
   "cell_type": "code",
   "execution_count": 3,
   "id": "f0684c26-6cfa-495e-889b-808e804b7034",
   "metadata": {},
   "outputs": [],
   "source": [
    "import pandas as pd\n",
    "import numpy as np\n",
    "import matplotlib.pyplot as plt\n",
    "import seaborn as sns\n",
    "from sklearn.preprocessing import StandardScaler, LabelEncoder"
   ]
  },
  {
   "cell_type": "code",
   "execution_count": 4,
   "id": "02c29b71-f0a2-4fab-903a-62bc5f9b621d",
   "metadata": {},
   "outputs": [
    {
     "data": {
      "text/html": [
       "<div>\n",
       "<style scoped>\n",
       "    .dataframe tbody tr th:only-of-type {\n",
       "        vertical-align: middle;\n",
       "    }\n",
       "\n",
       "    .dataframe tbody tr th {\n",
       "        vertical-align: top;\n",
       "    }\n",
       "\n",
       "    .dataframe thead th {\n",
       "        text-align: right;\n",
       "    }\n",
       "</style>\n",
       "<table border=\"1\" class=\"dataframe\">\n",
       "  <thead>\n",
       "    <tr style=\"text-align: right;\">\n",
       "      <th></th>\n",
       "      <th>GENDER</th>\n",
       "      <th>AGE</th>\n",
       "      <th>SMOKING</th>\n",
       "      <th>YELLOW_FINGERS</th>\n",
       "      <th>ANXIETY</th>\n",
       "      <th>PEER_PRESSURE</th>\n",
       "      <th>CHRONIC_DISEASE</th>\n",
       "      <th>FATIGUE</th>\n",
       "      <th>ALLERGY</th>\n",
       "      <th>WHEEZING</th>\n",
       "      <th>ALCOHOL_CONSUMING</th>\n",
       "      <th>COUGHING</th>\n",
       "      <th>SHORTNESS_OF_BREATH</th>\n",
       "      <th>SWALLOWING_DIFFICULTY</th>\n",
       "      <th>CHEST_PAIN</th>\n",
       "      <th>LUNG_CANCER</th>\n",
       "    </tr>\n",
       "  </thead>\n",
       "  <tbody>\n",
       "    <tr>\n",
       "      <th>0</th>\n",
       "      <td>M</td>\n",
       "      <td>65</td>\n",
       "      <td>Yes</td>\n",
       "      <td>Yes</td>\n",
       "      <td>Yes</td>\n",
       "      <td>No</td>\n",
       "      <td>No</td>\n",
       "      <td>Yes</td>\n",
       "      <td>No</td>\n",
       "      <td>No</td>\n",
       "      <td>No</td>\n",
       "      <td>No</td>\n",
       "      <td>No</td>\n",
       "      <td>No</td>\n",
       "      <td>Yes</td>\n",
       "      <td>NO</td>\n",
       "    </tr>\n",
       "    <tr>\n",
       "      <th>1</th>\n",
       "      <td>F</td>\n",
       "      <td>55</td>\n",
       "      <td>Yes</td>\n",
       "      <td>No</td>\n",
       "      <td>No</td>\n",
       "      <td>Yes</td>\n",
       "      <td>Yes</td>\n",
       "      <td>No</td>\n",
       "      <td>No</td>\n",
       "      <td>No</td>\n",
       "      <td>Yes</td>\n",
       "      <td>Yes</td>\n",
       "      <td>Yes</td>\n",
       "      <td>No</td>\n",
       "      <td>No</td>\n",
       "      <td>NO</td>\n",
       "    </tr>\n",
       "    <tr>\n",
       "      <th>2</th>\n",
       "      <td>F</td>\n",
       "      <td>78</td>\n",
       "      <td>No</td>\n",
       "      <td>No</td>\n",
       "      <td>Yes</td>\n",
       "      <td>Yes</td>\n",
       "      <td>Yes</td>\n",
       "      <td>No</td>\n",
       "      <td>Yes</td>\n",
       "      <td>No</td>\n",
       "      <td>Yes</td>\n",
       "      <td>Yes</td>\n",
       "      <td>No</td>\n",
       "      <td>Yes</td>\n",
       "      <td>Yes</td>\n",
       "      <td>YES</td>\n",
       "    </tr>\n",
       "    <tr>\n",
       "      <th>3</th>\n",
       "      <td>M</td>\n",
       "      <td>60</td>\n",
       "      <td>No</td>\n",
       "      <td>Yes</td>\n",
       "      <td>Yes</td>\n",
       "      <td>Yes</td>\n",
       "      <td>No</td>\n",
       "      <td>Yes</td>\n",
       "      <td>No</td>\n",
       "      <td>Yes</td>\n",
       "      <td>Yes</td>\n",
       "      <td>No</td>\n",
       "      <td>Yes</td>\n",
       "      <td>No</td>\n",
       "      <td>No</td>\n",
       "      <td>YES</td>\n",
       "    </tr>\n",
       "    <tr>\n",
       "      <th>4</th>\n",
       "      <td>F</td>\n",
       "      <td>80</td>\n",
       "      <td>Yes</td>\n",
       "      <td>Yes</td>\n",
       "      <td>No</td>\n",
       "      <td>Yes</td>\n",
       "      <td>Yes</td>\n",
       "      <td>No</td>\n",
       "      <td>Yes</td>\n",
       "      <td>No</td>\n",
       "      <td>Yes</td>\n",
       "      <td>Yes</td>\n",
       "      <td>Yes</td>\n",
       "      <td>Yes</td>\n",
       "      <td>No</td>\n",
       "      <td>NO</td>\n",
       "    </tr>\n",
       "  </tbody>\n",
       "</table>\n",
       "</div>"
      ],
      "text/plain": [
       "  GENDER  AGE SMOKING YELLOW_FINGERS ANXIETY PEER_PRESSURE CHRONIC_DISEASE  \\\n",
       "0      M   65     Yes            Yes     Yes            No              No   \n",
       "1      F   55     Yes             No      No           Yes             Yes   \n",
       "2      F   78      No             No     Yes           Yes             Yes   \n",
       "3      M   60      No            Yes     Yes           Yes              No   \n",
       "4      F   80     Yes            Yes      No           Yes             Yes   \n",
       "\n",
       "  FATIGUE ALLERGY WHEEZING ALCOHOL_CONSUMING COUGHING SHORTNESS_OF_BREATH  \\\n",
       "0     Yes      No       No                No       No                  No   \n",
       "1      No      No       No               Yes      Yes                 Yes   \n",
       "2      No     Yes       No               Yes      Yes                  No   \n",
       "3     Yes      No      Yes               Yes       No                 Yes   \n",
       "4      No     Yes       No               Yes      Yes                 Yes   \n",
       "\n",
       "  SWALLOWING_DIFFICULTY CHEST_PAIN LUNG_CANCER  \n",
       "0                    No        Yes          NO  \n",
       "1                    No         No          NO  \n",
       "2                   Yes        Yes         YES  \n",
       "3                    No         No         YES  \n",
       "4                   Yes         No          NO  "
      ]
     },
     "execution_count": 4,
     "metadata": {},
     "output_type": "execute_result"
    }
   ],
   "source": [
    "df = pd.read_csv(r'C:\\Users\\jhumu\\Downloads\\dataseter.csv')\n",
    "df.head()"
   ]
  },
  {
   "cell_type": "code",
   "execution_count": 5,
   "id": "a773e4d7-95fe-4689-8ed0-159277e7d6ab",
   "metadata": {},
   "outputs": [
    {
     "data": {
      "text/plain": [
       "GENDER                   0\n",
       "AGE                      0\n",
       "SMOKING                  0\n",
       "YELLOW_FINGERS           0\n",
       "ANXIETY                  0\n",
       "PEER_PRESSURE            0\n",
       "CHRONIC_DISEASE          0\n",
       "FATIGUE                  0\n",
       "ALLERGY                  0\n",
       "WHEEZING                 0\n",
       "ALCOHOL_CONSUMING        0\n",
       "COUGHING                 0\n",
       "SHORTNESS_OF_BREATH      0\n",
       "SWALLOWING_DIFFICULTY    0\n",
       "CHEST_PAIN               0\n",
       "LUNG_CANCER              0\n",
       "dtype: int64"
      ]
     },
     "execution_count": 5,
     "metadata": {},
     "output_type": "execute_result"
    }
   ],
   "source": [
    "df.isnull().sum()"
   ]
  },
  {
   "cell_type": "code",
   "execution_count": 6,
   "id": "790cf57d-0e1e-46be-aeaf-de6f8aac8c28",
   "metadata": {},
   "outputs": [],
   "source": [
    "df['AGE'] = df['AGE'].fillna(df['AGE'].mean())"
   ]
  },
  {
   "cell_type": "code",
   "execution_count": 7,
   "id": "3aa8226a-571c-4d51-82c8-61073c8d2ed1",
   "metadata": {},
   "outputs": [
    {
     "data": {
      "text/html": [
       "<div>\n",
       "<style scoped>\n",
       "    .dataframe tbody tr th:only-of-type {\n",
       "        vertical-align: middle;\n",
       "    }\n",
       "\n",
       "    .dataframe tbody tr th {\n",
       "        vertical-align: top;\n",
       "    }\n",
       "\n",
       "    .dataframe thead th {\n",
       "        text-align: right;\n",
       "    }\n",
       "</style>\n",
       "<table border=\"1\" class=\"dataframe\">\n",
       "  <thead>\n",
       "    <tr style=\"text-align: right;\">\n",
       "      <th></th>\n",
       "      <th>AGE</th>\n",
       "    </tr>\n",
       "  </thead>\n",
       "  <tbody>\n",
       "    <tr>\n",
       "      <th>count</th>\n",
       "      <td>3000.000000</td>\n",
       "    </tr>\n",
       "    <tr>\n",
       "      <th>mean</th>\n",
       "      <td>55.169000</td>\n",
       "    </tr>\n",
       "    <tr>\n",
       "      <th>std</th>\n",
       "      <td>14.723746</td>\n",
       "    </tr>\n",
       "    <tr>\n",
       "      <th>min</th>\n",
       "      <td>30.000000</td>\n",
       "    </tr>\n",
       "    <tr>\n",
       "      <th>25%</th>\n",
       "      <td>42.000000</td>\n",
       "    </tr>\n",
       "    <tr>\n",
       "      <th>50%</th>\n",
       "      <td>55.000000</td>\n",
       "    </tr>\n",
       "    <tr>\n",
       "      <th>75%</th>\n",
       "      <td>68.000000</td>\n",
       "    </tr>\n",
       "    <tr>\n",
       "      <th>max</th>\n",
       "      <td>80.000000</td>\n",
       "    </tr>\n",
       "  </tbody>\n",
       "</table>\n",
       "</div>"
      ],
      "text/plain": [
       "               AGE\n",
       "count  3000.000000\n",
       "mean     55.169000\n",
       "std      14.723746\n",
       "min      30.000000\n",
       "25%      42.000000\n",
       "50%      55.000000\n",
       "75%      68.000000\n",
       "max      80.000000"
      ]
     },
     "execution_count": 7,
     "metadata": {},
     "output_type": "execute_result"
    }
   ],
   "source": [
    "df.describe()"
   ]
  },
  {
   "cell_type": "code",
   "execution_count": 9,
   "id": "fc8a6e05-dd57-4240-8424-d374427d1361",
   "metadata": {},
   "outputs": [
    {
     "data": {
      "text/plain": [
       "GENDER                   object\n",
       "AGE                       int64\n",
       "SMOKING                  object\n",
       "YELLOW_FINGERS           object\n",
       "ANXIETY                  object\n",
       "PEER_PRESSURE            object\n",
       "CHRONIC_DISEASE          object\n",
       "FATIGUE                  object\n",
       "ALLERGY                  object\n",
       "WHEEZING                 object\n",
       "ALCOHOL_CONSUMING        object\n",
       "COUGHING                 object\n",
       "SHORTNESS_OF_BREATH      object\n",
       "SWALLOWING_DIFFICULTY    object\n",
       "CHEST_PAIN               object\n",
       "LUNG_CANCER              object\n",
       "dtype: object"
      ]
     },
     "execution_count": 9,
     "metadata": {},
     "output_type": "execute_result"
    }
   ],
   "source": [
    "df.dtypes"
   ]
  },
  {
   "cell_type": "code",
   "execution_count": 10,
   "id": "2483408a-b247-4064-baff-aa63a895e0ef",
   "metadata": {},
   "outputs": [],
   "source": [
    "le = LabelEncoder()"
   ]
  },
  {
   "cell_type": "code",
   "execution_count": 11,
   "id": "f3ff8f3e-05ee-43ad-a5d3-53c448a33abc",
   "metadata": {},
   "outputs": [],
   "source": [
    "df['GENDER'] = le.fit_transform(df['GENDER'])"
   ]
  },
  {
   "cell_type": "code",
   "execution_count": 12,
   "id": "00f7d502-fc49-48f8-82e0-a299374bbbb1",
   "metadata": {},
   "outputs": [],
   "source": [
    "df['SMOKING'] = le.fit_transform(df['SMOKING'])"
   ]
  },
  {
   "cell_type": "code",
   "execution_count": 13,
   "id": "aee2907c-b8bd-4d72-9d39-34644541aad6",
   "metadata": {},
   "outputs": [
    {
     "data": {
      "text/plain": [
       "GENDER                    int64\n",
       "AGE                       int64\n",
       "SMOKING                   int64\n",
       "YELLOW_FINGERS           object\n",
       "ANXIETY                  object\n",
       "PEER_PRESSURE            object\n",
       "CHRONIC_DISEASE          object\n",
       "FATIGUE                  object\n",
       "ALLERGY                  object\n",
       "WHEEZING                 object\n",
       "ALCOHOL_CONSUMING        object\n",
       "COUGHING                 object\n",
       "SHORTNESS_OF_BREATH      object\n",
       "SWALLOWING_DIFFICULTY    object\n",
       "CHEST_PAIN               object\n",
       "LUNG_CANCER              object\n",
       "dtype: object"
      ]
     },
     "execution_count": 13,
     "metadata": {},
     "output_type": "execute_result"
    }
   ],
   "source": [
    "df.dtypes"
   ]
  },
  {
   "cell_type": "code",
   "execution_count": 14,
   "id": "074cf208-6320-4a6a-a32b-aad3a4ca3748",
   "metadata": {},
   "outputs": [],
   "source": [
    "df['YELLOW_FINGERS'] = le.fit_transform(df['YELLOW_FINGERS'])\n",
    "df['ANXIETY'] = le.fit_transform(df['ANXIETY'])\n",
    "df['PEER_PRESSURE'] = le.fit_transform(df['PEER_PRESSURE'])\n",
    "df['CHRONIC_DISEASE'] = le.fit_transform(df['CHRONIC_DISEASE'])\n",
    "df['FATIGUE'] = le.fit_transform(df['FATIGUE'])\n",
    "df['ALLERGY'] = le.fit_transform(df['ALLERGY'])\n",
    "df['WHEEZING'] = le.fit_transform(df['WHEEZING'])\n",
    "df['ALCOHOL_CONSUMING'] = le.fit_transform(df['ALCOHOL_CONSUMING'])\n",
    "df['COUGHING'] = le.fit_transform(df['COUGHING'])\n",
    "df['SHORTNESS_OF_BREATH'] = le.fit_transform(df['SHORTNESS_OF_BREATH'])\n",
    "df['SWALLOWING_DIFFICULTY'] = le.fit_transform(df['SWALLOWING_DIFFICULTY'])\n",
    "df['CHEST_PAIN'] = le.fit_transform(df['CHEST_PAIN'])\n",
    "df['LUNG_CANCER'] = le.fit_transform(df['LUNG_CANCER'])"
   ]
  },
  {
   "cell_type": "code",
   "execution_count": 15,
   "id": "6c506c9f-31f3-4f94-9b62-4943e3665ad5",
   "metadata": {},
   "outputs": [
    {
     "data": {
      "text/plain": [
       "GENDER                   int64\n",
       "AGE                      int64\n",
       "SMOKING                  int64\n",
       "YELLOW_FINGERS           int64\n",
       "ANXIETY                  int64\n",
       "PEER_PRESSURE            int64\n",
       "CHRONIC_DISEASE          int64\n",
       "FATIGUE                  int64\n",
       "ALLERGY                  int64\n",
       "WHEEZING                 int64\n",
       "ALCOHOL_CONSUMING        int64\n",
       "COUGHING                 int64\n",
       "SHORTNESS_OF_BREATH      int64\n",
       "SWALLOWING_DIFFICULTY    int64\n",
       "CHEST_PAIN               int64\n",
       "LUNG_CANCER              int64\n",
       "dtype: object"
      ]
     },
     "execution_count": 15,
     "metadata": {},
     "output_type": "execute_result"
    }
   ],
   "source": [
    "df.dtypes"
   ]
  },
  {
   "cell_type": "code",
   "execution_count": 16,
   "id": "dd783aab-c670-4660-ba3e-f685ac99f66d",
   "metadata": {},
   "outputs": [
    {
     "data": {
      "text/html": [
       "<div>\n",
       "<style scoped>\n",
       "    .dataframe tbody tr th:only-of-type {\n",
       "        vertical-align: middle;\n",
       "    }\n",
       "\n",
       "    .dataframe tbody tr th {\n",
       "        vertical-align: top;\n",
       "    }\n",
       "\n",
       "    .dataframe thead th {\n",
       "        text-align: right;\n",
       "    }\n",
       "</style>\n",
       "<table border=\"1\" class=\"dataframe\">\n",
       "  <thead>\n",
       "    <tr style=\"text-align: right;\">\n",
       "      <th></th>\n",
       "      <th>GENDER</th>\n",
       "      <th>AGE</th>\n",
       "      <th>SMOKING</th>\n",
       "      <th>YELLOW_FINGERS</th>\n",
       "      <th>ANXIETY</th>\n",
       "      <th>PEER_PRESSURE</th>\n",
       "      <th>CHRONIC_DISEASE</th>\n",
       "      <th>FATIGUE</th>\n",
       "      <th>ALLERGY</th>\n",
       "      <th>WHEEZING</th>\n",
       "      <th>ALCOHOL_CONSUMING</th>\n",
       "      <th>COUGHING</th>\n",
       "      <th>SHORTNESS_OF_BREATH</th>\n",
       "      <th>SWALLOWING_DIFFICULTY</th>\n",
       "      <th>CHEST_PAIN</th>\n",
       "      <th>LUNG_CANCER</th>\n",
       "    </tr>\n",
       "  </thead>\n",
       "  <tbody>\n",
       "    <tr>\n",
       "      <th>0</th>\n",
       "      <td>1</td>\n",
       "      <td>65</td>\n",
       "      <td>1</td>\n",
       "      <td>1</td>\n",
       "      <td>1</td>\n",
       "      <td>0</td>\n",
       "      <td>0</td>\n",
       "      <td>1</td>\n",
       "      <td>0</td>\n",
       "      <td>0</td>\n",
       "      <td>0</td>\n",
       "      <td>0</td>\n",
       "      <td>0</td>\n",
       "      <td>0</td>\n",
       "      <td>1</td>\n",
       "      <td>0</td>\n",
       "    </tr>\n",
       "    <tr>\n",
       "      <th>1</th>\n",
       "      <td>0</td>\n",
       "      <td>55</td>\n",
       "      <td>1</td>\n",
       "      <td>0</td>\n",
       "      <td>0</td>\n",
       "      <td>1</td>\n",
       "      <td>1</td>\n",
       "      <td>0</td>\n",
       "      <td>0</td>\n",
       "      <td>0</td>\n",
       "      <td>1</td>\n",
       "      <td>1</td>\n",
       "      <td>1</td>\n",
       "      <td>0</td>\n",
       "      <td>0</td>\n",
       "      <td>0</td>\n",
       "    </tr>\n",
       "    <tr>\n",
       "      <th>2</th>\n",
       "      <td>0</td>\n",
       "      <td>78</td>\n",
       "      <td>0</td>\n",
       "      <td>0</td>\n",
       "      <td>1</td>\n",
       "      <td>1</td>\n",
       "      <td>1</td>\n",
       "      <td>0</td>\n",
       "      <td>1</td>\n",
       "      <td>0</td>\n",
       "      <td>1</td>\n",
       "      <td>1</td>\n",
       "      <td>0</td>\n",
       "      <td>1</td>\n",
       "      <td>1</td>\n",
       "      <td>1</td>\n",
       "    </tr>\n",
       "    <tr>\n",
       "      <th>3</th>\n",
       "      <td>1</td>\n",
       "      <td>60</td>\n",
       "      <td>0</td>\n",
       "      <td>1</td>\n",
       "      <td>1</td>\n",
       "      <td>1</td>\n",
       "      <td>0</td>\n",
       "      <td>1</td>\n",
       "      <td>0</td>\n",
       "      <td>1</td>\n",
       "      <td>1</td>\n",
       "      <td>0</td>\n",
       "      <td>1</td>\n",
       "      <td>0</td>\n",
       "      <td>0</td>\n",
       "      <td>1</td>\n",
       "    </tr>\n",
       "    <tr>\n",
       "      <th>4</th>\n",
       "      <td>0</td>\n",
       "      <td>80</td>\n",
       "      <td>1</td>\n",
       "      <td>1</td>\n",
       "      <td>0</td>\n",
       "      <td>1</td>\n",
       "      <td>1</td>\n",
       "      <td>0</td>\n",
       "      <td>1</td>\n",
       "      <td>0</td>\n",
       "      <td>1</td>\n",
       "      <td>1</td>\n",
       "      <td>1</td>\n",
       "      <td>1</td>\n",
       "      <td>0</td>\n",
       "      <td>0</td>\n",
       "    </tr>\n",
       "    <tr>\n",
       "      <th>...</th>\n",
       "      <td>...</td>\n",
       "      <td>...</td>\n",
       "      <td>...</td>\n",
       "      <td>...</td>\n",
       "      <td>...</td>\n",
       "      <td>...</td>\n",
       "      <td>...</td>\n",
       "      <td>...</td>\n",
       "      <td>...</td>\n",
       "      <td>...</td>\n",
       "      <td>...</td>\n",
       "      <td>...</td>\n",
       "      <td>...</td>\n",
       "      <td>...</td>\n",
       "      <td>...</td>\n",
       "      <td>...</td>\n",
       "    </tr>\n",
       "    <tr>\n",
       "      <th>2995</th>\n",
       "      <td>0</td>\n",
       "      <td>71</td>\n",
       "      <td>0</td>\n",
       "      <td>1</td>\n",
       "      <td>1</td>\n",
       "      <td>0</td>\n",
       "      <td>0</td>\n",
       "      <td>1</td>\n",
       "      <td>1</td>\n",
       "      <td>1</td>\n",
       "      <td>1</td>\n",
       "      <td>0</td>\n",
       "      <td>1</td>\n",
       "      <td>1</td>\n",
       "      <td>0</td>\n",
       "      <td>0</td>\n",
       "    </tr>\n",
       "    <tr>\n",
       "      <th>2996</th>\n",
       "      <td>0</td>\n",
       "      <td>75</td>\n",
       "      <td>1</td>\n",
       "      <td>0</td>\n",
       "      <td>1</td>\n",
       "      <td>1</td>\n",
       "      <td>1</td>\n",
       "      <td>0</td>\n",
       "      <td>0</td>\n",
       "      <td>0</td>\n",
       "      <td>0</td>\n",
       "      <td>1</td>\n",
       "      <td>1</td>\n",
       "      <td>0</td>\n",
       "      <td>1</td>\n",
       "      <td>0</td>\n",
       "    </tr>\n",
       "    <tr>\n",
       "      <th>2997</th>\n",
       "      <td>0</td>\n",
       "      <td>62</td>\n",
       "      <td>0</td>\n",
       "      <td>0</td>\n",
       "      <td>0</td>\n",
       "      <td>1</td>\n",
       "      <td>0</td>\n",
       "      <td>0</td>\n",
       "      <td>0</td>\n",
       "      <td>0</td>\n",
       "      <td>1</td>\n",
       "      <td>1</td>\n",
       "      <td>0</td>\n",
       "      <td>0</td>\n",
       "      <td>0</td>\n",
       "      <td>1</td>\n",
       "    </tr>\n",
       "    <tr>\n",
       "      <th>2998</th>\n",
       "      <td>1</td>\n",
       "      <td>30</td>\n",
       "      <td>1</td>\n",
       "      <td>1</td>\n",
       "      <td>0</td>\n",
       "      <td>0</td>\n",
       "      <td>0</td>\n",
       "      <td>0</td>\n",
       "      <td>0</td>\n",
       "      <td>0</td>\n",
       "      <td>0</td>\n",
       "      <td>1</td>\n",
       "      <td>0</td>\n",
       "      <td>1</td>\n",
       "      <td>0</td>\n",
       "      <td>1</td>\n",
       "    </tr>\n",
       "    <tr>\n",
       "      <th>2999</th>\n",
       "      <td>1</td>\n",
       "      <td>40</td>\n",
       "      <td>1</td>\n",
       "      <td>0</td>\n",
       "      <td>0</td>\n",
       "      <td>1</td>\n",
       "      <td>1</td>\n",
       "      <td>1</td>\n",
       "      <td>0</td>\n",
       "      <td>0</td>\n",
       "      <td>0</td>\n",
       "      <td>1</td>\n",
       "      <td>1</td>\n",
       "      <td>1</td>\n",
       "      <td>1</td>\n",
       "      <td>1</td>\n",
       "    </tr>\n",
       "  </tbody>\n",
       "</table>\n",
       "<p>3000 rows × 16 columns</p>\n",
       "</div>"
      ],
      "text/plain": [
       "      GENDER  AGE  SMOKING  YELLOW_FINGERS  ANXIETY  PEER_PRESSURE  \\\n",
       "0          1   65        1               1        1              0   \n",
       "1          0   55        1               0        0              1   \n",
       "2          0   78        0               0        1              1   \n",
       "3          1   60        0               1        1              1   \n",
       "4          0   80        1               1        0              1   \n",
       "...      ...  ...      ...             ...      ...            ...   \n",
       "2995       0   71        0               1        1              0   \n",
       "2996       0   75        1               0        1              1   \n",
       "2997       0   62        0               0        0              1   \n",
       "2998       1   30        1               1        0              0   \n",
       "2999       1   40        1               0        0              1   \n",
       "\n",
       "      CHRONIC_DISEASE  FATIGUE  ALLERGY  WHEEZING  ALCOHOL_CONSUMING  \\\n",
       "0                   0        1        0         0                  0   \n",
       "1                   1        0        0         0                  1   \n",
       "2                   1        0        1         0                  1   \n",
       "3                   0        1        0         1                  1   \n",
       "4                   1        0        1         0                  1   \n",
       "...               ...      ...      ...       ...                ...   \n",
       "2995                0        1        1         1                  1   \n",
       "2996                1        0        0         0                  0   \n",
       "2997                0        0        0         0                  1   \n",
       "2998                0        0        0         0                  0   \n",
       "2999                1        1        0         0                  0   \n",
       "\n",
       "      COUGHING  SHORTNESS_OF_BREATH  SWALLOWING_DIFFICULTY  CHEST_PAIN  \\\n",
       "0            0                    0                      0           1   \n",
       "1            1                    1                      0           0   \n",
       "2            1                    0                      1           1   \n",
       "3            0                    1                      0           0   \n",
       "4            1                    1                      1           0   \n",
       "...        ...                  ...                    ...         ...   \n",
       "2995         0                    1                      1           0   \n",
       "2996         1                    1                      0           1   \n",
       "2997         1                    0                      0           0   \n",
       "2998         1                    0                      1           0   \n",
       "2999         1                    1                      1           1   \n",
       "\n",
       "      LUNG_CANCER  \n",
       "0               0  \n",
       "1               0  \n",
       "2               1  \n",
       "3               1  \n",
       "4               0  \n",
       "...           ...  \n",
       "2995            0  \n",
       "2996            0  \n",
       "2997            1  \n",
       "2998            1  \n",
       "2999            1  \n",
       "\n",
       "[3000 rows x 16 columns]"
      ]
     },
     "execution_count": 16,
     "metadata": {},
     "output_type": "execute_result"
    }
   ],
   "source": [
    "df"
   ]
  },
  {
   "cell_type": "code",
   "execution_count": 27,
   "id": "821aa1a2-9296-448d-b1c3-47764bebebad",
   "metadata": {},
   "outputs": [],
   "source": [
    "import torch\n",
    "import torch.nn as nn\n",
    "import torch.optim as optim\n",
    "from torch.utils.data import DataLoader, TensorDataset"
   ]
  },
  {
   "cell_type": "code",
   "execution_count": 19,
   "id": "2fb1baff-f942-4f7e-8ced-bb878e8bb99d",
   "metadata": {},
   "outputs": [],
   "source": [
    "data = df.values.astype(np.float32)"
   ]
  },
  {
   "cell_type": "code",
   "execution_count": 20,
   "id": "47a20725-6f60-46eb-acb7-7f11a2c6e3e1",
   "metadata": {},
   "outputs": [],
   "source": [
    "data_tensor = torch.tensor(data)"
   ]
  },
  {
   "cell_type": "code",
   "execution_count": 28,
   "id": "e60ae5fb-fe8a-489c-8c87-445c5cb648f0",
   "metadata": {},
   "outputs": [],
   "source": [
    "from sklearn.model_selection import train_test_split\n",
    "from tabgan.sampler import GANGenerator"
   ]
  },
  {
   "cell_type": "code",
   "execution_count": 29,
   "id": "2814e0ef-edf0-42d2-8d7e-45f8caca2651",
   "metadata": {},
   "outputs": [],
   "source": [
    "X = df.drop(\"LUNG_CANCER\", axis=1)  \n",
    "y = df[\"LUNG_CANCER\"]  "
   ]
  },
  {
   "cell_type": "code",
   "execution_count": 30,
   "id": "e4c65586-8bdc-4b10-a586-1347729efc75",
   "metadata": {},
   "outputs": [],
   "source": [
    "X_train, X_test, y_train, y_test = train_test_split(X, y, test_size=0.2, random_state=42)\n",
    "\n",
    "X_train = X_train.reset_index(drop=True)\n",
    "X_test = X_test.reset_index(drop=True)"
   ]
  },
  {
   "cell_type": "code",
   "execution_count": 84,
   "id": "ee123af2-f3c0-41b6-9b90-06dd032340d1",
   "metadata": {},
   "outputs": [],
   "source": [
    "gen_params = {\n",
    "    \"batch_size\": 100,  \n",
    "    \"patience\": 25,\n",
    "    \"epochs\": 500  \n",
    "}"
   ]
  },
  {
   "cell_type": "code",
   "execution_count": 85,
   "id": "034a4d52-e5c1-4a54-8faf-4379701acc78",
   "metadata": {},
   "outputs": [],
   "source": [
    "adversarial_model_params = {\n",
    "    \"metrics\": \"rmse\",\n",
    "    \"max_depth\": 2,\n",
    "    \"max_bin\": 100,\n",
    "    \"learning_rate\": 0.01,\n",
    "    \"random_state\": 42,\n",
    "    \"n_estimators\": 500\n",
    "}"
   ]
  },
  {
   "cell_type": "code",
   "execution_count": 86,
   "id": "99f2167b-ad2f-4400-a930-598403752cda",
   "metadata": {},
   "outputs": [],
   "source": [
    "gan_generator = GANGenerator(\n",
    "    gen_x_times=1.1,  \n",
    "    cat_cols=None,  \n",
    "    bot_filter_quantile=0.001,\n",
    "    top_filter_quantile=0.999,\n",
    "    is_post_process=True,\n",
    "    adversarial_model_params=adversarial_model_params,\n",
    "    pregeneration_frac=2,\n",
    "    only_generated_data=False,\n",
    "    gen_params=gen_params  \n",
    ")"
   ]
  },
  {
   "cell_type": "code",
   "execution_count": 87,
   "id": "8417a937-908d-4b2e-92e3-d39ccbf38ec2",
   "metadata": {},
   "outputs": [],
   "source": [
    "y_train_df = pd.DataFrame(y_train)"
   ]
  },
  {
   "cell_type": "code",
   "execution_count": 88,
   "id": "cb0d9d6f-a3a4-43a6-920a-fd6f0dac8e41",
   "metadata": {
    "scrolled": true
   },
   "outputs": [
    {
     "name": "stdout",
     "output_type": "stream",
     "text": [
      "GENDER                   0\n",
      "AGE                      0\n",
      "SMOKING                  0\n",
      "YELLOW_FINGERS           0\n",
      "ANXIETY                  0\n",
      "PEER_PRESSURE            0\n",
      "CHRONIC_DISEASE          0\n",
      "FATIGUE                  0\n",
      "ALLERGY                  0\n",
      "WHEEZING                 0\n",
      "ALCOHOL_CONSUMING        0\n",
      "COUGHING                 0\n",
      "SHORTNESS_OF_BREATH      0\n",
      "SWALLOWING_DIFFICULTY    0\n",
      "CHEST_PAIN               0\n",
      "dtype: int64\n",
      "0\n"
     ]
    }
   ],
   "source": [
    "print(X_train.isnull().sum())  \n",
    "print(y_train.isnull().sum())"
   ]
  },
  {
   "cell_type": "code",
   "execution_count": 89,
   "id": "1fa68a06-fdcf-4798-8c2a-a85b2f844956",
   "metadata": {},
   "outputs": [
    {
     "name": "stdout",
     "output_type": "stream",
     "text": [
      "Type of X_train: <class 'pandas.core.frame.DataFrame'>\n",
      "Type of X_test: <class 'pandas.core.frame.DataFrame'>\n",
      "Type of y_train: <class 'pandas.core.series.Series'>\n",
      "X_train shape: (2400, 15)\n",
      "X_test shape: (600, 15)\n",
      "y_train shape: (2400,)\n"
     ]
    }
   ],
   "source": [
    "print(f\"Type of X_train: {type(X_train)}\")\n",
    "print(f\"Type of X_test: {type(X_test)}\")\n",
    "print(f\"Type of y_train: {type(y_train)}\")\n",
    "\n",
    "print(f\"X_train shape: {X_train.shape}\")\n",
    "print(f\"X_test shape: {X_test.shape}\")\n",
    "print(f\"y_train shape: {y_train.shape}\")"
   ]
  },
  {
   "cell_type": "code",
   "execution_count": 90,
   "id": "3ff38534-462a-4c45-aaa6-f6fbc9412e33",
   "metadata": {},
   "outputs": [
    {
     "name": "stdout",
     "output_type": "stream",
     "text": [
      "GENDER                   0\n",
      "AGE                      0\n",
      "SMOKING                  0\n",
      "YELLOW_FINGERS           0\n",
      "ANXIETY                  0\n",
      "PEER_PRESSURE            0\n",
      "CHRONIC_DISEASE          0\n",
      "FATIGUE                  0\n",
      "ALLERGY                  0\n",
      "WHEEZING                 0\n",
      "ALCOHOL_CONSUMING        0\n",
      "COUGHING                 0\n",
      "SHORTNESS_OF_BREATH      0\n",
      "SWALLOWING_DIFFICULTY    0\n",
      "CHEST_PAIN               0\n",
      "dtype: int64\n",
      "GENDER                   0\n",
      "AGE                      0\n",
      "SMOKING                  0\n",
      "YELLOW_FINGERS           0\n",
      "ANXIETY                  0\n",
      "PEER_PRESSURE            0\n",
      "CHRONIC_DISEASE          0\n",
      "FATIGUE                  0\n",
      "ALLERGY                  0\n",
      "WHEEZING                 0\n",
      "ALCOHOL_CONSUMING        0\n",
      "COUGHING                 0\n",
      "SHORTNESS_OF_BREATH      0\n",
      "SWALLOWING_DIFFICULTY    0\n",
      "CHEST_PAIN               0\n",
      "dtype: int64\n",
      "LUNG_CANCER    0\n",
      "dtype: int64\n"
     ]
    }
   ],
   "source": [
    "print(X_train.isnull().sum())  \n",
    "print(X_test.isnull().sum())  \n",
    "print(pd.DataFrame(y_train).isnull().sum()) "
   ]
  },
  {
   "cell_type": "code",
   "execution_count": 91,
   "id": "0fce6523-91eb-4ae9-a616-88852b811e9a",
   "metadata": {},
   "outputs": [],
   "source": [
    "from sklearn.impute import SimpleImputer"
   ]
  },
  {
   "cell_type": "code",
   "execution_count": 92,
   "id": "1f2454bf-ca6a-4a69-a5bb-aac3702e11a1",
   "metadata": {},
   "outputs": [],
   "source": [
    "imputer = SimpleImputer(strategy='mean')\n",
    "\n",
    "X_train_imputed = imputer.fit_transform(X_train)\n",
    "X_test_imputed = imputer.transform(X_test)\n",
    "\n",
    "y_train_imputed = imputer.fit_transform(pd.DataFrame(y_train)).ravel() "
   ]
  },
  {
   "cell_type": "code",
   "execution_count": 93,
   "id": "fd0b9487-1653-42b5-8af8-401ff715e5c7",
   "metadata": {},
   "outputs": [
    {
     "name": "stdout",
     "output_type": "stream",
     "text": [
      "0\n",
      "0\n",
      "0    0\n",
      "dtype: int64\n"
     ]
    }
   ],
   "source": [
    "print(pd.isnull(X_train_imputed).sum())\n",
    "print(pd.isnull(X_test_imputed).sum())\n",
    "print(pd.isnull(pd.DataFrame(y_train_imputed)).sum()) "
   ]
  },
  {
   "cell_type": "code",
   "execution_count": 94,
   "id": "a14fd63d-6fb9-4613-b221-5c55c44b9369",
   "metadata": {},
   "outputs": [],
   "source": [
    "X_train_imputed = pd.DataFrame(X_train_imputed)\n",
    "X_test_imputed = pd.DataFrame(X_test_imputed)\n",
    "y_train_imputed = pd.DataFrame(y_train_imputed) "
   ]
  },
  {
   "cell_type": "code",
   "execution_count": 95,
   "id": "1487e761-6a08-472f-ab5f-493e12d3a77f",
   "metadata": {},
   "outputs": [
    {
     "name": "stdout",
     "output_type": "stream",
     "text": [
      "Type of X_train_imputed: <class 'pandas.core.frame.DataFrame'>\n",
      "Type of X_test_imputed: <class 'pandas.core.frame.DataFrame'>\n",
      "Type of y_train_imputed: <class 'pandas.core.frame.DataFrame'>\n"
     ]
    }
   ],
   "source": [
    "print(f\"Type of X_train_imputed: {type(X_train_imputed)}\")\n",
    "print(f\"Type of X_test_imputed: {type(X_test_imputed)}\")\n",
    "print(f\"Type of y_train_imputed: {type(y_train_imputed)}\")"
   ]
  },
  {
   "cell_type": "code",
   "execution_count": 96,
   "id": "fc4390e4-154d-4268-9804-cbb00cfd3d87",
   "metadata": {},
   "outputs": [],
   "source": [
    "X_train_imputed.columns = [f'Feature{i+1}' for i in range(X_train_imputed.shape[1])]"
   ]
  },
  {
   "cell_type": "code",
   "execution_count": 97,
   "id": "723acf75-a951-47d2-b5de-2dc9b142cbc2",
   "metadata": {},
   "outputs": [],
   "source": [
    "X_test_imputed.columns = [f'Feature{i+1}' for i in range(X_test_imputed.shape[1])]"
   ]
  },
  {
   "cell_type": "code",
   "execution_count": 98,
   "id": "ba31737e-c722-4880-bc51-9232bbe05a15",
   "metadata": {},
   "outputs": [
    {
     "name": "stdout",
     "output_type": "stream",
     "text": [
      "   Feature1  Feature2  Feature3  Feature4  Feature5  Feature6  Feature7  \\\n",
      "0       1.0      62.0       1.0       0.0       1.0       1.0       0.0   \n",
      "1       0.0      69.0       0.0       0.0       0.0       0.0       0.0   \n",
      "2       0.0      67.0       0.0       1.0       1.0       0.0       0.0   \n",
      "3       1.0      70.0       1.0       0.0       0.0       1.0       0.0   \n",
      "4       1.0      32.0       0.0       0.0       1.0       0.0       1.0   \n",
      "\n",
      "   Feature8  Feature9  Feature10  Feature11  Feature12  Feature13  Feature14  \\\n",
      "0       1.0       0.0        0.0        1.0        1.0        1.0        1.0   \n",
      "1       0.0       1.0        0.0        0.0        0.0        1.0        0.0   \n",
      "2       0.0       1.0        1.0        0.0        0.0        0.0        0.0   \n",
      "3       1.0       0.0        0.0        0.0        0.0        1.0        0.0   \n",
      "4       0.0       1.0        1.0        1.0        0.0        1.0        1.0   \n",
      "\n",
      "   Feature15  \n",
      "0        1.0  \n",
      "1        0.0  \n",
      "2        1.0  \n",
      "3        0.0  \n",
      "4        0.0  \n"
     ]
    }
   ],
   "source": [
    "print(X_train_imputed.head())"
   ]
  },
  {
   "cell_type": "code",
   "execution_count": 116,
   "id": "ae5fb614-2208-4b42-92de-4b3f5f51d3a4",
   "metadata": {},
   "outputs": [
    {
     "name": "stdout",
     "output_type": "stream",
     "text": [
      "Generated Synthetic Data with Column Names:\n",
      "   GENDER   AGE  SMOKING  YELLOW_FINGERS  ANXIETY  PEER_PRESSURE  \\\n",
      "0     1.0  30.0      1.0             0.0      0.0            0.0   \n",
      "1     0.0  31.0      1.0             0.0      1.0            0.0   \n",
      "2     0.0  30.0      1.0             0.0      0.0            1.0   \n",
      "3     0.0  30.0      0.0             0.0      0.0            1.0   \n",
      "4     0.0  32.0      1.0             0.0      1.0            1.0   \n",
      "\n",
      "   CHRONIC_DISEASE  FATIGUE  ALLERGY  WHEEZING  ALCOHOL_CONSUMING  COUGHING  \\\n",
      "0              1.0      0.0      0.0       0.0                0.0       0.0   \n",
      "1              1.0      1.0      0.0       0.0                0.0       0.0   \n",
      "2              1.0      0.0      0.0       1.0                0.0       0.0   \n",
      "3              0.0      0.0      0.0       0.0                0.0       0.0   \n",
      "4              1.0      1.0      0.0       1.0                1.0       0.0   \n",
      "\n",
      "   SHORTNESS_OF_BREATH  SWALLOWING_DIFFICULTY  CHEST_PAIN  \n",
      "0                  1.0                    0.0         1.0  \n",
      "1                  1.0                    0.0         1.0  \n",
      "2                  0.0                    0.0         1.0  \n",
      "3                  1.0                    0.0         1.0  \n",
      "4                  0.0                    0.0         1.0  \n"
     ]
    }
   ],
   "source": [
    "gen_x.columns = X_train.columns\n",
    "print(\"Generated Synthetic Data with Column Names:\")\n",
    "print(gen_x.head())"
   ]
  },
  {
   "cell_type": "code",
   "execution_count": 100,
   "id": "bad295c7-d92b-4e21-a154-63bbefad663a",
   "metadata": {},
   "outputs": [],
   "source": [
    "import warnings\n",
    "warnings.filterwarnings(\"always\")"
   ]
  },
  {
   "cell_type": "code",
   "execution_count": 101,
   "id": "9277b5d3-5e73-4b5e-887e-2d65400d82a0",
   "metadata": {},
   "outputs": [
    {
     "data": {
      "application/vnd.jupyter.widget-view+json": {
       "model_id": "3b2366306134422a986d7c7620dfb0c2",
       "version_major": 2,
       "version_minor": 0
      },
      "text/plain": [
       "Fitting CTGAN transformers for each column:   0%|          | 0/16 [00:00<?, ?it/s]"
      ]
     },
     "metadata": {},
     "output_type": "display_data"
    },
    {
     "data": {
      "application/vnd.jupyter.widget-view+json": {
       "model_id": "f139760405234dc8b92fc88d7ddc1e42",
       "version_major": 2,
       "version_minor": 0
      },
      "text/plain": [
       "Training CTGAN, epochs::   0%|          | 0/500 [00:00<?, ?it/s]"
      ]
     },
     "metadata": {},
     "output_type": "display_data"
    }
   ],
   "source": [
    "gen_x, gen_y = gan_generator.generate_data_pipe(\n",
    "    X_train_imputed, \n",
    "    pd.DataFrame(y_train_imputed), \n",
    "    X_test_imputed, \n",
    "    deep_copy=True, \n",
    "    only_adversarial=False, \n",
    "    use_adversarial=True\n",
    ")\n"
   ]
  },
  {
   "cell_type": "code",
   "execution_count": 107,
   "id": "314a8142-04fa-4b24-91b3-8e1720d9db3f",
   "metadata": {},
   "outputs": [
    {
     "name": "stdout",
     "output_type": "stream",
     "text": [
      "Generated Synthetic Data:\n",
      "   Feature1  Feature2  Feature3  Feature4  Feature5  Feature6  Feature7  \\\n",
      "0       1.0      30.0       1.0       0.0       0.0       0.0       1.0   \n",
      "1       0.0      31.0       1.0       0.0       1.0       0.0       1.0   \n",
      "2       0.0      30.0       1.0       0.0       0.0       1.0       1.0   \n",
      "3       0.0      30.0       0.0       0.0       0.0       1.0       0.0   \n",
      "4       0.0      32.0       1.0       0.0       1.0       1.0       1.0   \n",
      "\n",
      "   Feature8  Feature9  Feature10  Feature11  Feature12  Feature13  Feature14  \\\n",
      "0       0.0       0.0        0.0        0.0        0.0        1.0        0.0   \n",
      "1       1.0       0.0        0.0        0.0        0.0        1.0        0.0   \n",
      "2       0.0       0.0        1.0        0.0        0.0        0.0        0.0   \n",
      "3       0.0       0.0        0.0        0.0        0.0        1.0        0.0   \n",
      "4       1.0       0.0        1.0        1.0        0.0        0.0        0.0   \n",
      "\n",
      "   Feature15  \n",
      "0        1.0  \n",
      "1        1.0  \n",
      "2        1.0  \n",
      "3        1.0  \n",
      "4        1.0  \n"
     ]
    }
   ],
   "source": [
    "print(\"Generated Synthetic Data:\")\n",
    "print(gen_x.head())"
   ]
  },
  {
   "cell_type": "code",
   "execution_count": 108,
   "id": "a13e0bcd-c9da-4df9-8a65-1f2bdf0f4cac",
   "metadata": {},
   "outputs": [
    {
     "name": "stdout",
     "output_type": "stream",
     "text": [
      "Generated Synthetic Data with Column Names:\n",
      "   GENDER   AGE  SMOKING  YELLOW_FINGERS  ANXIETY  PEER_PRESSURE  \\\n",
      "0     1.0  30.0      1.0             0.0      0.0            0.0   \n",
      "1     0.0  31.0      1.0             0.0      1.0            0.0   \n",
      "2     0.0  30.0      1.0             0.0      0.0            1.0   \n",
      "3     0.0  30.0      0.0             0.0      0.0            1.0   \n",
      "4     0.0  32.0      1.0             0.0      1.0            1.0   \n",
      "\n",
      "   CHRONIC_DISEASE  FATIGUE  ALLERGY  WHEEZING  ALCOHOL_CONSUMING  COUGHING  \\\n",
      "0              1.0      0.0      0.0       0.0                0.0       0.0   \n",
      "1              1.0      1.0      0.0       0.0                0.0       0.0   \n",
      "2              1.0      0.0      0.0       1.0                0.0       0.0   \n",
      "3              0.0      0.0      0.0       0.0                0.0       0.0   \n",
      "4              1.0      1.0      0.0       1.0                1.0       0.0   \n",
      "\n",
      "   SHORTNESS_OF_BREATH  SWALLOWING_DIFFICULTY  CHEST_PAIN  \n",
      "0                  1.0                    0.0         1.0  \n",
      "1                  1.0                    0.0         1.0  \n",
      "2                  0.0                    0.0         1.0  \n",
      "3                  1.0                    0.0         1.0  \n",
      "4                  0.0                    0.0         1.0  \n"
     ]
    }
   ],
   "source": [
    "gen_x.columns = X_train.columns\n",
    "print(\"Generated Synthetic Data with Column Names:\")\n",
    "print(gen_x.head())"
   ]
  },
  {
   "cell_type": "code",
   "execution_count": 109,
   "id": "cca48cdd-526b-407d-9b1b-19afda497bc9",
   "metadata": {},
   "outputs": [
    {
     "name": "stdout",
     "output_type": "stream",
     "text": [
      "Original Data Statistics:\n",
      "            GENDER          AGE      SMOKING  YELLOW_FINGERS      ANXIETY  \\\n",
      "count  2400.000000  2400.000000  2400.000000     2400.000000  2400.000000   \n",
      "mean      0.510417    55.187500     0.509167        0.477083     0.507500   \n",
      "std       0.499996    14.734579     0.500020        0.499579     0.500048   \n",
      "min       0.000000    30.000000     0.000000        0.000000     0.000000   \n",
      "25%       0.000000    42.000000     0.000000        0.000000     0.000000   \n",
      "50%       1.000000    55.000000     1.000000        0.000000     1.000000   \n",
      "75%       1.000000    68.000000     1.000000        1.000000     1.000000   \n",
      "max       1.000000    80.000000     1.000000        1.000000     1.000000   \n",
      "\n",
      "       PEER_PRESSURE  CHRONIC_DISEASE      FATIGUE      ALLERGY     WHEEZING  \\\n",
      "count    2400.000000      2400.000000  2400.000000  2400.000000  2400.000000   \n",
      "mean        0.500833         0.492500     0.513333     0.490833     0.503333   \n",
      "std         0.500104         0.500048     0.499926     0.500020     0.500093   \n",
      "min         0.000000         0.000000     0.000000     0.000000     0.000000   \n",
      "25%         0.000000         0.000000     0.000000     0.000000     0.000000   \n",
      "50%         1.000000         0.000000     1.000000     0.000000     1.000000   \n",
      "75%         1.000000         1.000000     1.000000     1.000000     1.000000   \n",
      "max         1.000000         1.000000     1.000000     1.000000     1.000000   \n",
      "\n",
      "       ALCOHOL_CONSUMING     COUGHING  SHORTNESS_OF_BREATH  \\\n",
      "count        2400.000000  2400.000000          2400.000000   \n",
      "mean            0.508333     0.482500             0.509167   \n",
      "std             0.500035     0.499798             0.500020   \n",
      "min             0.000000     0.000000             0.000000   \n",
      "25%             0.000000     0.000000             0.000000   \n",
      "50%             1.000000     0.000000             1.000000   \n",
      "75%             1.000000     1.000000             1.000000   \n",
      "max             1.000000     1.000000             1.000000   \n",
      "\n",
      "       SWALLOWING_DIFFICULTY   CHEST_PAIN  \n",
      "count            2400.000000  2400.000000  \n",
      "mean                0.514167     0.492083  \n",
      "std                 0.499903     0.500042  \n",
      "min                 0.000000     0.000000  \n",
      "25%                 0.000000     0.000000  \n",
      "50%                 1.000000     0.000000  \n",
      "75%                 1.000000     1.000000  \n",
      "max                 1.000000     1.000000  \n",
      "Generated Data Statistics:\n",
      "            GENDER          AGE      SMOKING  YELLOW_FINGERS      ANXIETY  \\\n",
      "count  2401.000000  2401.000000  2401.000000     2401.000000  2401.000000   \n",
      "mean      0.510219    55.186075     0.508982        0.476898     0.507686   \n",
      "std       0.499985    14.731674     0.499998        0.499557     0.500027   \n",
      "min       0.000000    30.000000     0.000000        0.000000     0.000000   \n",
      "25%       0.000000    42.000000     0.000000        0.000000     0.000000   \n",
      "50%       1.000000    55.000000     1.000000        0.000000     1.000000   \n",
      "75%       1.000000    68.000000     1.000000        1.000000     1.000000   \n",
      "max       1.000000    80.000000     1.000000        1.000000     1.000000   \n",
      "\n",
      "       PEER_PRESSURE  CHRONIC_DISEASE      FATIGUE      ALLERGY     WHEEZING  \\\n",
      "count    2401.000000      2401.000000  2401.000000  2401.000000  2401.000000   \n",
      "mean        0.500643         0.492297     0.513510     0.491041     0.503515   \n",
      "std         0.500087         0.500043     0.499897     0.500019     0.500068   \n",
      "min         0.000000         0.000000     0.000000     0.000000     0.000000   \n",
      "25%         0.000000         0.000000     0.000000     0.000000     0.000000   \n",
      "50%         1.000000         0.000000     1.000000     0.000000     1.000000   \n",
      "75%         1.000000         1.000000     1.000000     1.000000     1.000000   \n",
      "max         1.000000         1.000000     1.000000     1.000000     1.000000   \n",
      "\n",
      "       ALCOHOL_CONSUMING     COUGHING  SHORTNESS_OF_BREATH  \\\n",
      "count        2401.000000  2401.000000          2401.000000   \n",
      "mean            0.508524     0.482689             0.508976   \n",
      "std             0.500018     0.499779             0.500003   \n",
      "min             0.000000     0.000000             0.000000   \n",
      "25%             0.000000     0.000000             0.000000   \n",
      "50%             1.000000     0.000000             1.000000   \n",
      "75%             1.000000     1.000000             1.000000   \n",
      "max             1.000000     1.000000             1.000000   \n",
      "\n",
      "       SWALLOWING_DIFFICULTY   CHEST_PAIN  \n",
      "count            2401.000000  2401.000000  \n",
      "mean                0.514363     0.492289  \n",
      "std                 0.499892     0.500039  \n",
      "min                 0.000000     0.000000  \n",
      "25%                 0.000000     0.000000  \n",
      "50%                 1.000000     0.000000  \n",
      "75%                 1.000000     1.000000  \n",
      "max                 1.000000     1.000000  \n"
     ]
    }
   ],
   "source": [
    "print(\"Original Data Statistics:\")\n",
    "print(X_train.describe())\n",
    "\n",
    "print(\"Generated Data Statistics:\")\n",
    "print(gen_x.describe())"
   ]
  },
  {
   "cell_type": "code",
   "execution_count": 115,
   "id": "30a047f5-3fc6-4418-b3f1-ed1f2e9ae383",
   "metadata": {},
   "outputs": [],
   "source": [
    "gen_x_df = gen_x\n",
    "gen_x_df.to_csv(r\"C:\\Users\\jhumu\\Regular Use\\JupyNote\\synthetic_lung_cancer_data.csv\", index=False)\n"
   ]
  },
  {
   "cell_type": "code",
   "execution_count": null,
   "id": "087fa2f7-abc4-4a10-aa5e-3c92ab895b92",
   "metadata": {},
   "outputs": [],
   "source": []
  }
 ],
 "metadata": {
  "kernelspec": {
   "display_name": "Python 3 (ipykernel)",
   "language": "python",
   "name": "python3"
  },
  "language_info": {
   "codemirror_mode": {
    "name": "ipython",
    "version": 3
   },
   "file_extension": ".py",
   "mimetype": "text/x-python",
   "name": "python",
   "nbconvert_exporter": "python",
   "pygments_lexer": "ipython3",
   "version": "3.13.2"
  }
 },
 "nbformat": 4,
 "nbformat_minor": 5
}
